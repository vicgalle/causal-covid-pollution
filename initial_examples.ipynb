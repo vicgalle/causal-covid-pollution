{
 "cells": [
  {
   "cell_type": "markdown",
   "metadata": {},
   "source": [
    "First we load the required libraries"
   ]
  },
  {
   "cell_type": "code",
   "execution_count": 33,
   "metadata": {},
   "outputs": [],
   "source": [
    "import ee\n",
    "from IPython.display import Image\n",
    "\n",
    "ee.Initialize()"
   ]
  },
  {
   "cell_type": "markdown",
   "metadata": {},
   "source": [
    "## First example: elevation data\n",
    "\n",
    "Note for each dataset the urls inside ```ee.Image``` can be obtained from https://developers.google.com/earth-engine/datasets"
   ]
  },
  {
   "cell_type": "code",
   "execution_count": 34,
   "metadata": {},
   "outputs": [
    {
     "name": "stdout",
     "output_type": "stream",
     "text": [
      "Mount Everest elevation (m): 8729\n"
     ]
    }
   ],
   "source": [
    "# Access to elevation data\n",
    "im = ee.Image('USGS/SRTMGL1_003')\n",
    "\n",
    "# We can specify a particular point in the map\n",
    "xy = ee.Geometry.Point([86.9250, 27.9881])\n",
    "\n",
    "# We sample one \"pixel\" value and obtain the elevation feature\n",
    "elev = im.sample(xy, 1).first().get('elevation').getInfo()\n",
    "print('Mount Everest elevation (m):', elev)"
   ]
  },
  {
   "cell_type": "markdown",
   "metadata": {},
   "source": [
    "Next, instead of focusing on a single point, we will plot all the elevation over the Earth, using a custom palette"
   ]
  },
  {
   "cell_type": "code",
   "execution_count": 35,
   "metadata": {},
   "outputs": [
    {
     "data": {
      "text/html": [
       "<img src=\"https://earthengine.googleapis.com/v1alpha/projects/earthengine-legacy/thumbnails/ed0f32beee7b703174f4323e4341c06c-15daeef93950a7b3996c49a511525983:getPixels\"/>"
      ],
      "text/plain": [
       "<IPython.core.display.Image object>"
      ]
     },
     "execution_count": 35,
     "metadata": {},
     "output_type": "execute_result"
    }
   ],
   "source": [
    "Image(url = im.updateMask(im.gt(0))  # This is to filter out sub-zero elevation (oceans mostly)\n",
    "  .getThumbUrl({'min': 0, 'max': 4000, 'dimensions': 1024,\n",
    "                'palette': ['006633', 'E5FFCC', '662A00', 'D8D8D8', 'F5F5F5']}))"
   ]
  },
  {
   "cell_type": "markdown",
   "metadata": {},
   "source": [
    "## Second example: illumination data\n",
    "\n",
    "Note that for this dataset we have a collection of images instead of a single ```Image```, so we need to use a reduction operation such as mean, median, std, max... to aggregate to a single image\n",
    "\n",
    "![collection](img/collection.png)\n",
    "\n",
    "In this example we will compute the mean illumination over all the time-periods"
   ]
  },
  {
   "cell_type": "code",
   "execution_count": 36,
   "metadata": {},
   "outputs": [],
   "source": [
    "collection = ee.ImageCollection(\"NOAA/DMSP-OLS/NIGHTTIME_LIGHTS\")\n",
    "\n",
    "collection = collection.select('stable_lights')\n",
    "collection = collection.reduce(ee.Reducer.mean());"
   ]
  },
  {
   "cell_type": "code",
   "execution_count": 37,
   "metadata": {},
   "outputs": [
    {
     "data": {
      "text/html": [
       "<img src=\"https://earthengine.googleapis.com/v1alpha/projects/earthengine-legacy/thumbnails/f7dbd516915bf94ec6022c38e06dc123-6696098360529b2dbe85b739418259a2:getPixels\"/>"
      ],
      "text/plain": [
       "<IPython.core.display.Image object>"
      ]
     },
     "execution_count": 37,
     "metadata": {},
     "output_type": "execute_result"
    }
   ],
   "source": [
    "Image(url=collection.getThumbUrl({'min': 0, 'max': 0.18, 'dimensions': 2048,\n",
    "                'palette': ['black', 'cyan']}))"
   ]
  },
  {
   "cell_type": "markdown",
   "metadata": {},
   "source": [
    "Now we will plot a more interesting example using this Reducer https://developers.google.com/earth-engine/reducers_regression"
   ]
  },
  {
   "cell_type": "code",
   "execution_count": 38,
   "metadata": {},
   "outputs": [],
   "source": [
    "collection = ee.ImageCollection(\"NOAA/DMSP-OLS/NIGHTTIME_LIGHTS\")\n",
    "\n",
    "# Add a band containing image date as years since 1991.\n",
    "def CreateTimeBand(img):\n",
    "    year = ee.Date(img.get('system:time_start')).get('year').subtract(1991)\n",
    "    return ee.Image(year).byte().addBands(img)\n",
    "\n",
    "collection = collection.select('stable_lights').map(CreateTimeBand)\n",
    "collection = collection.reduce(ee.Reducer.linearFit());"
   ]
  },
  {
   "cell_type": "markdown",
   "metadata": {},
   "source": [
    "Using an RGB color pallette, if the slope of the regression is possitive (illumination has increased during the years), the pixel will be more red. If the slope is negative, the pixel will be bluer. And if the illumination has been approximately constant, the color will be green"
   ]
  },
  {
   "cell_type": "code",
   "execution_count": 39,
   "metadata": {},
   "outputs": [
    {
     "data": {
      "text/html": [
       "<img src=\"https://earthengine.googleapis.com/v1alpha/projects/earthengine-legacy/thumbnails/1f4f2cc60e618de7861131851b5aac05-acc548f9a78a9833993298dbdfbb974c:getPixels\"/>"
      ],
      "text/plain": [
       "<IPython.core.display.Image object>"
      ]
     },
     "execution_count": 39,
     "metadata": {},
     "output_type": "execute_result"
    }
   ],
   "source": [
    "Image(url=collection.getThumbUrl({'min': 0, 'max': '0.18,20,-0.18',\n",
    "      'bands': 'scale,offset,scale', 'dimensions': 2048}))"
   ]
  },
  {
   "cell_type": "markdown",
   "metadata": {},
   "source": [
    "To get dynamic plots (using folium), see the next notebook, where we plot pollution examples"
   ]
  },
  {
   "cell_type": "code",
   "execution_count": null,
   "metadata": {},
   "outputs": [],
   "source": []
  },
  {
   "cell_type": "code",
   "execution_count": null,
   "metadata": {},
   "outputs": [],
   "source": []
  }
 ],
 "metadata": {
  "kernelspec": {
   "display_name": "Python 3",
   "language": "python",
   "name": "python3"
  },
  "language_info": {
   "codemirror_mode": {
    "name": "ipython",
    "version": 3
   },
   "file_extension": ".py",
   "mimetype": "text/x-python",
   "name": "python",
   "nbconvert_exporter": "python",
   "pygments_lexer": "ipython3",
   "version": "3.8.2"
  }
 },
 "nbformat": 4,
 "nbformat_minor": 4
}
